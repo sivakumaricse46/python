{
 "cells": [
  {
   "cell_type": "markdown",
   "id": "f0f322f2",
   "metadata": {},
   "source": [
    "# python\n",
    "\n"
   ]
  },
  {
   "cell_type": "markdown",
   "id": "1f2f3857",
   "metadata": {},
   "source": [
    "name = 'siva'\n",
    "type(name)\n"
   ]
  },
  {
   "cell_type": "raw",
   "id": "29971a2c",
   "metadata": {},
   "source": [
    "njkfndjk\n"
   ]
  },
  {
   "cell_type": "code",
   "execution_count": 1,
   "id": "3588f790",
   "metadata": {},
   "outputs": [],
   "source": [
    "name='siva'"
   ]
  },
  {
   "cell_type": "code",
   "execution_count": 2,
   "id": "9911e356",
   "metadata": {},
   "outputs": [
    {
     "data": {
      "text/plain": [
       "str"
      ]
     },
     "execution_count": 2,
     "metadata": {},
     "output_type": "execute_result"
    }
   ],
   "source": [
    "type(name)"
   ]
  },
  {
   "cell_type": "code",
   "execution_count": 3,
   "id": "8c471079",
   "metadata": {},
   "outputs": [],
   "source": [
    "name=\"HYDsiva\""
   ]
  },
  {
   "cell_type": "code",
   "execution_count": 4,
   "id": "00693df5",
   "metadata": {},
   "outputs": [
    {
     "name": "stdout",
     "output_type": "stream",
     "text": [
      "False\n"
     ]
    }
   ],
   "source": [
    "print(name.isupper())"
   ]
  },
  {
   "cell_type": "code",
   "execution_count": 5,
   "id": "de8a0b62",
   "metadata": {},
   "outputs": [
    {
     "name": "stdout",
     "output_type": "stream",
     "text": [
      "hydSIVA\n"
     ]
    }
   ],
   "source": [
    "print(name.swapcase())"
   ]
  },
  {
   "cell_type": "code",
   "execution_count": 6,
   "id": "0ff83371",
   "metadata": {},
   "outputs": [
    {
     "name": "stdout",
     "output_type": "stream",
     "text": [
      "HYDSIVA\n"
     ]
    }
   ],
   "source": [
    "print(name.upper())"
   ]
  },
  {
   "cell_type": "code",
   "execution_count": 7,
   "id": "f924f81a",
   "metadata": {},
   "outputs": [
    {
     "name": "stdout",
     "output_type": "stream",
     "text": [
      "hydsiva\n"
     ]
    }
   ],
   "source": [
    "print(name.lower())"
   ]
  },
  {
   "cell_type": "code",
   "execution_count": 8,
   "id": "182beb7b",
   "metadata": {},
   "outputs": [
    {
     "name": "stdout",
     "output_type": "stream",
     "text": [
      "False\n"
     ]
    }
   ],
   "source": [
    "print(name.islower())"
   ]
  },
  {
   "cell_type": "code",
   "execution_count": null,
   "id": "8c9e1369",
   "metadata": {},
   "outputs": [],
   "source": []
  }
 ],
 "metadata": {
  "kernelspec": {
   "display_name": "Python 3",
   "language": "python",
   "name": "python3"
  },
  "language_info": {
   "codemirror_mode": {
    "name": "ipython",
    "version": 3
   },
   "file_extension": ".py",
   "mimetype": "text/x-python",
   "name": "python",
   "nbconvert_exporter": "python",
   "pygments_lexer": "ipython3",
   "version": "3.8.8"
  }
 },
 "nbformat": 4,
 "nbformat_minor": 5
}
